{
 "cells": [
  {
   "cell_type": "markdown",
   "metadata": {},
   "source": [
    "#### Exercise 1 - Class Inheritance"
   ]
  },
  {
   "cell_type": "markdown",
   "metadata": {},
   "source": [
    "Create an Employee class that sets an employee's first name, last name, job title, salary, and email. The Employee class should have a class attribute for the raise amount set to 5% (1.05). Create a method that will apply the raise to an employee's salary."
   ]
  },
  {
   "cell_type": "code",
   "execution_count": 22,
   "metadata": {},
   "outputs": [],
   "source": [
    "class Employee():\n",
    "    \n",
    "    raiseamount = 1.05\n",
    "    \n",
    "    def __init__(self, firstname, lastname, job, salary, email):\n",
    "        self.firstname = firstname\n",
    "        self.lastname = lastname\n",
    "        self.job = job\n",
    "        self.salary = salary\n",
    "        self.email = email\n",
    "        \n",
    "    def applyraise(self):\n",
    "        self.salary *= self.raiseamount\n",
    "        print(self.salary)\n",
    "        \n",
    "        "
   ]
  },
  {
   "cell_type": "markdown",
   "metadata": {},
   "source": [
    "Create two more classes that inherit from the Employee class. One for Sales and one for Development. Both of these classes will have the same attributes as the Employee.<br>\n",
    "- For the Sales employees, add a phone number attribute on instantiation using the super method. \n",
    "- Create a method on the Sales class that will Send a Follow Up Email. It should take in a customer name and \"send\" aka print a formatted email \"Dear *customer*, Thank you for your interest in our product. Please let me know if you have any questions. My email is *email* or my phone number is *phone number*. Thanks, *full name*\"\n",
    "- Create a method on the Development class called code that will print out \"*full name* is writing code\"."
   ]
  },
  {
   "cell_type": "code",
   "execution_count": 23,
   "metadata": {},
   "outputs": [],
   "source": [
    "class Sales(Employee):\n",
    "    def __init__(self, firstname, lastname, job, salary, email, phonenumber):\n",
    "        super().__init__(firstname, lastname, job, salary, email)\n",
    "        self.phonenumber = phonenumber\n",
    "    \n",
    "    def followup(self, customer):\n",
    "        print(f'Dear {customer}, thank you for your interest in our product. Please let me know if you have any questions. \\\n",
    "        my email is {self.email} and my phone number is {self.phonenumber}. Thanks. {self.firstname} {self.lastname}')\n",
    "        \n",
    "class Development(Employee):\n",
    "    \n",
    "    def code(self):\n",
    "        print(f'{self.firstname} {self.lastname} is writing code')\n"
   ]
  },
  {
   "cell_type": "markdown",
   "metadata": {},
   "source": [
    "- Create an instance of a Sales Employee with a salary of $50,000.\n",
    "- Send follow up emails to \"Mike O'Neil\" and \"Hannah Stern\"\n",
    "- Give the employee a raise and print the salary"
   ]
  },
  {
   "cell_type": "code",
   "execution_count": 24,
   "metadata": {},
   "outputs": [
    {
     "name": "stdout",
     "output_type": "stream",
     "text": [
      "Dear Mike ONeil, thank you for your interest in our product. Please let me know if you have any questions.         my email is milesfinch@blahblah.com and my phone number is 555-555-5555. Thanks. Miles Finch\n",
      "Dear Hannah Stern, thank you for your interest in our product. Please let me know if you have any questions.         my email is milesfinch@blahblah.com and my phone number is 555-555-5555. Thanks. Miles Finch\n",
      "52500.0\n"
     ]
    }
   ],
   "source": [
    "emp1 = Sales('Miles', 'Finch', 'Manager', 50000, 'milesfinch@blahblah.com', '555-555-5555')\n",
    "emp1.followup('Mike ONeil')\n",
    "emp1.followup('Hannah Stern')\n",
    "emp1.applyraise()"
   ]
  },
  {
   "cell_type": "markdown",
   "metadata": {},
   "source": [
    "- Create an instance of a Development Employee with a salary of $100,000\n",
    "- Write some code with this employee\n",
    "- Give the employee a raise and print the salary"
   ]
  },
  {
   "cell_type": "code",
   "execution_count": 25,
   "metadata": {},
   "outputs": [
    {
     "name": "stdout",
     "output_type": "stream",
     "text": [
      "bill nye is writing code\n"
     ]
    },
    {
     "data": {
      "text/plain": [
       "<bound method Employee.applyraise of <__main__.Development object at 0x000001D04DDCD250>>"
      ]
     },
     "execution_count": 25,
     "metadata": {},
     "output_type": "execute_result"
    }
   ],
   "source": [
    "emp2 = Development('bill', 'nye', 'garbageman', 30000, 'trashmaster5@aol.com')\n",
    "emp2.code()\n",
    "emp2.applyraise"
   ]
  },
  {
   "cell_type": "markdown",
   "metadata": {},
   "source": [
    "#### Exercise 2 - Importing Modules"
   ]
  },
  {
   "cell_type": "markdown",
   "metadata": {},
   "source": [
    "In VS Code, create a module titled `geometry` and add two functions in there. One that will calculate the area of a circle given a radius. The second will find the hypotenuse of a right angle given the two sides. Import the module or the functions from the module and use it to find the answers to the below questions"
   ]
  },
  {
   "cell_type": "markdown",
   "metadata": {},
   "source": [
    "What is the area of a circle with a radius of 7cm?"
   ]
  },
  {
   "cell_type": "code",
   "execution_count": 2,
   "metadata": {},
   "outputs": [
    {
     "data": {
      "text/plain": [
       "153.93804002589985"
      ]
     },
     "execution_count": 2,
     "metadata": {},
     "output_type": "execute_result"
    }
   ],
   "source": [
    "import geometry\n",
    "geometry.area(7)"
   ]
  },
  {
   "cell_type": "markdown",
   "metadata": {},
   "source": [
    "What is the hypotenuse of a right angle with sides of 3in and 4in?"
   ]
  },
  {
   "cell_type": "code",
   "execution_count": 3,
   "metadata": {},
   "outputs": [
    {
     "data": {
      "text/plain": [
       "5.0"
      ]
     },
     "execution_count": 3,
     "metadata": {},
     "output_type": "execute_result"
    }
   ],
   "source": [
    "geometry.hypot(3, 4)"
   ]
  }
 ],
 "metadata": {
  "kernelspec": {
   "display_name": "Python 3 (ipykernel)",
   "language": "python",
   "name": "python3"
  },
  "language_info": {
   "codemirror_mode": {
    "name": "ipython",
    "version": 3
   },
   "file_extension": ".py",
   "mimetype": "text/x-python",
   "name": "python",
   "nbconvert_exporter": "python",
   "pygments_lexer": "ipython3",
   "version": "3.9.7"
  }
 },
 "nbformat": 4,
 "nbformat_minor": 4
}
